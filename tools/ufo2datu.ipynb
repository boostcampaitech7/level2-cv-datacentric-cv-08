{
 "cells": [
  {
   "cell_type": "code",
   "execution_count": 8,
   "metadata": {},
   "outputs": [],
   "source": [
    "import json\n",
    "import os\n",
    "import re"
   ]
  },
  {
   "cell_type": "code",
   "execution_count": 9,
   "metadata": {},
   "outputs": [],
   "source": [
    "folder = \"annotations/\"\n",
    "output_dir = os.path.dirname(folder)\n",
    "if not os.path.exists(output_dir):\n",
    "    os.makedirs(output_dir, exist_ok=True)"
   ]
  },
  {
   "cell_type": "code",
   "execution_count": 10,
   "metadata": {},
   "outputs": [],
   "source": [
    "def read_json(filename):\n",
    "    with open(filename) as f:\n",
    "        return json.load(f)"
   ]
  },
  {
   "cell_type": "code",
   "execution_count": 11,
   "metadata": {},
   "outputs": [],
   "source": [
    "def write_json(data, filename):\n",
    "    with open(filename, 'w') as f:\n",
    "        json.dump(data, f, ensure_ascii=False, indent=2)"
   ]
  },
  {
   "cell_type": "code",
   "execution_count": 12,
   "metadata": {},
   "outputs": [],
   "source": [
    "ufo_in = \"/data/ephemeral/home/원본trainjson/japanese_receipt/train.json\"\n",
    "ufo_in = read_json(ufo_in)\n",
    "task_name = \"japanese\"\n",
    "split = \"train\"\n",
    "id_prefix = task_name + \"/images/\" + split + \"/\"\n",
    "out_name = \"annotations/default.json\""
   ]
  },
  {
   "cell_type": "code",
   "execution_count": 13,
   "metadata": {},
   "outputs": [],
   "source": [
    "wrap_point_items = lambda items: {\n",
    "    \"info\": {},\n",
    "    \"categories\": {\n",
    "        \"label\": {\n",
    "            \"labels\": [{\"name\": \"1\", \"parent\": \"\", \"attributes\": []}],\n",
    "            \"attributes\": [\"occluded\"],\n",
    "        },\n",
    "        \"points\": {\"items\": []},\n",
    "    },\n",
    "    \"items\": items,\n",
    "}\n",
    "\n",
    "get_image_node = lambda img_name: ufo_in[\"images\"][img_name]\n",
    "\n",
    "node_dimensions = lambda img_node: {\n",
    "    \"img_w\": img_node[\"img_w\"],\n",
    "    \"img_h\": img_node[\"img_h\"],\n",
    "}\n",
    "\n",
    "def wrap_annotations(idx: int, img_name: str, annotations: list[dict]):\n",
    "    return {\n",
    "        \"id\": id_prefix + img_name,\n",
    "        \"annotations\": annotations,\n",
    "        \"attr\": {\"frame\": idx},\n",
    "        \"point_cloud\": {\"path\": \"\"},\n",
    "        \"info\": node_dimensions(get_image_node(img_name)),\n",
    "    }\n",
    "\n",
    "def wrap_vertices(vertices: list[float]):\n",
    "    return {\n",
    "        \"id\": 0,\n",
    "        \"type\": \"polygon\",\n",
    "        \"attributes\": {\"occluded\": False},\n",
    "        \"group\": 0,\n",
    "        \"label_id\": 0,\n",
    "        \"points\": vertices,\n",
    "        \"z_order\": 0,\n",
    "    }\n",
    "\n",
    "def boxify_polygon(pgn: list[list[float | int]]) -> list[list[list[float | int]]]:\n",
    "    num_vertices = len(pgn)\n",
    "    if num_vertices == 4:\n",
    "        return [[pgn]]\n",
    "    try:\n",
    "        return [\n",
    "            [[pgn[i], pgn[i + 1], pgn[-i - 2], pgn[-i - 1]]]\n",
    "            for i in range(num_vertices // 2 - 1)\n",
    "        ]\n",
    "    except:\n",
    "        pass\n",
    "    return []\n",
    "\n",
    "def flatten_points(boxes: list[list[float | int]]) -> list[float | int]:\n",
    "    return [coordinate for box in boxes for point in box for coordinate in point]\n",
    "\n",
    "def extract_flat_points(image: dict):\n",
    "    boxified_list = [boxify_polygon(v[\"points\"]) for v in image.values()]\n",
    "    flat_box_list = [flatten_points(v) for vs in boxified_list for v in vs]\n",
    "    return flat_box_list\n",
    "\n",
    "image_keys = image_keys = sorted(ufo_in[\"images\"].keys())  # [:10]\n",
    "image_map = image_map = {k: ufo_in[\"images\"][k][\"words\"] for k in image_keys}\n",
    "flat_points = {fname: extract_flat_points(image) for fname, image in image_map.items()}\n",
    "\n",
    "annotation = wrap_point_items(\n",
    "    [\n",
    "        wrap_annotations(\n",
    "            idx_, img_name, [wrap_vertices(vertices) for vertices in points]\n",
    "        )\n",
    "        for idx_, (img_name, points) in enumerate(flat_points.items())\n",
    "    ]\n",
    ")"
   ]
  },
  {
   "cell_type": "code",
   "execution_count": 14,
   "metadata": {},
   "outputs": [],
   "source": [
    "write_json(annotation, out_name)"
   ]
  }
 ],
 "metadata": {
  "kernelspec": {
   "display_name": "base",
   "language": "python",
   "name": "python3"
  },
  "language_info": {
   "codemirror_mode": {
    "name": "ipython",
    "version": 3
   },
   "file_extension": ".py",
   "mimetype": "text/x-python",
   "name": "python",
   "nbconvert_exporter": "python",
   "pygments_lexer": "ipython3",
   "version": "3.10.13"
  }
 },
 "nbformat": 4,
 "nbformat_minor": 2
}
