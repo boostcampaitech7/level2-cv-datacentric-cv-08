{
 "cells": [
  {
   "cell_type": "code",
   "execution_count": 30,
   "metadata": {},
   "outputs": [],
   "source": [
    "import json\n",
    "import os"
   ]
  },
  {
   "cell_type": "code",
   "execution_count": 31,
   "metadata": {},
   "outputs": [],
   "source": [
    "def read_json(path):\n",
    "    with open(path, 'r') as f:\n",
    "        file = json.load(f)\n",
    "    return file    "
   ]
  },
  {
   "cell_type": "code",
   "execution_count": 32,
   "metadata": {},
   "outputs": [],
   "source": [
    "def save_json(data, path):\n",
    "    with open(path, 'w') as f:\n",
    "        json.dump(data, f, ensure_ascii=False, indent=2)"
   ]
  },
  {
   "cell_type": "code",
   "execution_count": 33,
   "metadata": {},
   "outputs": [],
   "source": [
    "def update_item_id_with_extension(item, image_folder):\n",
    "    if not item['id'].endswith(('.jpg', '.png')):\n",
    "        image_path_jpg = os.path.join(image_folder, item['id'] + '.jpg')\n",
    "        image_path_png = os.path.join(image_folder, item['id'] + '.png')\n",
    "        if os.path.exists(image_path_jpg):\n",
    "            item['id'] += '.jpg'\n",
    "        elif os.path.exists(image_path_png):\n",
    "            item['id'] += '.png'\n",
    "        else:\n",
    "            print(f\"Image file not found for item id {item['id']}\")"
   ]
  },
  {
   "cell_type": "code",
   "execution_count": 34,
   "metadata": {},
   "outputs": [],
   "source": [
    "def datumaro_to_ufo(datumaro_json_path, original_ufo_json_path, img_folder, output_ufo_path):\n",
    "    # 원본 UFO JSON 로드 (이미지 크기 정보 획득용)\n",
    "    original_ufo_data = read_json(original_ufo_json_path)\n",
    "    original_ufo_images = original_ufo_data.get('images', {})\n",
    "\n",
    "    # Datumaro JSON 로드\n",
    "    datumaro_data = read_json(datumaro_json_path)\n",
    "    \n",
    "    # Datumaro 데이터의 키 확인\n",
    "    print(\"Datumaro 데이터의 키:\", datumaro_data.keys())\n",
    "    \n",
    "    # 최종 UFO 데이터를 저장할 딕셔너리\n",
    "    ufo_data = {'images': {}}\n",
    "    \n",
    "    for item in datumaro_data['items']:\n",
    "        update_item_id_with_extension(item, img_folder)\n",
    "    \n",
    "    # 'items' 키를 사용하여 이미지별로 처리\n",
    "    if 'items' in datumaro_data:\n",
    "        items = datumaro_data['items']\n",
    "    else:\n",
    "        print(\"Datumaro JSON의 구조가 예상과 다릅니다.\")\n",
    "        return\n",
    "    \n",
    "    # 이미지별로 처리\n",
    "    for item in items:\n",
    "        # 이미지 이름 가져오기\n",
    "        if 'id' in item:\n",
    "            image_id = item['id']\n",
    "        elif 'name' in item:\n",
    "            image_id = os.path.splitext(item['name'])[0]\n",
    "        else:\n",
    "            print(\"이미지 이름을 찾을 수 없습니다.\")\n",
    "            continue  # 또는 오류 처리\n",
    "\n",
    "        # 원본 UFO 데이터에서 이미지 크기 정보 가져오기\n",
    "        img_info = original_ufo_images.get(image_id)\n",
    "        if img_info:\n",
    "            img_w = img_info.get('img_w')\n",
    "            img_h = img_info.get('img_h')\n",
    "        else:\n",
    "            print(f\"원본 UFO 데이터에 '{image_id}' 이미지 정보가 없습니다.\")\n",
    "            continue\n",
    "\n",
    "        # UFO 형식에 맞게 데이터 초기화\n",
    "        ufo_item = {\n",
    "            \"paragraphs\": {},\n",
    "            \"words\": {},\n",
    "            \"chars\": {},\n",
    "            \"img_w\": img_w,\n",
    "            \"img_h\": img_h,\n",
    "            \"num_patches\": None,\n",
    "            \"tags\": [],\n",
    "            \"relations\": {},\n",
    "            \"annotation_log\": {},\n",
    "            \"license_tag\": {}\n",
    "        }\n",
    "        \n",
    "        # 해당 이미지의 어노테이션 수집\n",
    "        annotations = item.get('annotations', [])\n",
    "        \n",
    "        word_id = 1\n",
    "        for ann in annotations:\n",
    "            # 어노테이션 처리\n",
    "            transcription = '1'  # 'transcription' 정보가 없으므로 임시로 '1'로 설정\n",
    "                \n",
    "            # 점 정보 가져오기 (polygon 형태)\n",
    "            if 'points' in ann and ann['points']:\n",
    "                # Polygon 형태의 점들을 [ [x1, y1], [x2, y2], ..., [xn, yn] ] 형태로 변환\n",
    "                points = [[ann['points'][i], ann['points'][i+1]] for i in range(0, len(ann['points']), 2)]\n",
    "            else:\n",
    "                # 어노테이션에 점 정보가 없을 경우 스킵\n",
    "                continue\n",
    "            \n",
    "            # UFO 포맷의 'points'는 리스트의 리스트 형태입니다.\n",
    "            ufo_item['words'][f'{word_id:04d}'] = {\n",
    "                \"transcription\": transcription,\n",
    "                \"points\": points\n",
    "            }\n",
    "            word_id += 1\n",
    "        \n",
    "        # UFO 데이터에 추가\n",
    "        ufo_data['images'][image_id] = ufo_item\n",
    "    \n",
    "    # 결과를 JSON 파일로 저장\n",
    "    save_json(ufo_data, output_ufo_path)\n",
    "    print(f'UFO 데이터가 {output_ufo_path}에 저장되었습니다.')"
   ]
  },
  {
   "cell_type": "code",
   "execution_count": 35,
   "metadata": {},
   "outputs": [],
   "source": [
    "'''\n",
    "datumaro_json_path : CVAT에서 나온 annotation json\n",
    "ufo_json_path : 원본 ufo 포맷 json\n",
    "img_folder : 이미지 폴더\n",
    "output_path : datu -> ufo 변환 후 저장 경로\n",
    "'''\n",
    "datumaro_json_path = \"/data/ephemeral/home/jsons/ver4_datu/ver4_ch.json\"\n",
    "ufo_json_path = \"/data/ephemeral/home/원본trainjson/chinese_receipt/train.json\"\n",
    "img_folder = \"/data/ephemeral/home/code/data/chinese_receipt/img/train\"\n",
    "output_path = \"/data/ephemeral/home/datu2ufo/ver4_ch.json\""
   ]
  },
  {
   "cell_type": "code",
   "execution_count": 36,
   "metadata": {},
   "outputs": [
    {
     "name": "stdout",
     "output_type": "stream",
     "text": [
      "Datumaro 데이터의 키: dict_keys(['info', 'categories', 'items'])\n",
      "UFO 데이터가 /data/ephemeral/home/datu2ufo/ver4_ch.json에 저장되었습니다.\n"
     ]
    }
   ],
   "source": [
    "datumaro_to_ufo(datumaro_json_path, ufo_json_path, img_folder, output_path)"
   ]
  }
 ],
 "metadata": {
  "kernelspec": {
   "display_name": "base",
   "language": "python",
   "name": "python3"
  },
  "language_info": {
   "codemirror_mode": {
    "name": "ipython",
    "version": 3
   },
   "file_extension": ".py",
   "mimetype": "text/x-python",
   "name": "python",
   "nbconvert_exporter": "python",
   "pygments_lexer": "ipython3",
   "version": "3.10.13"
  }
 },
 "nbformat": 4,
 "nbformat_minor": 2
}
