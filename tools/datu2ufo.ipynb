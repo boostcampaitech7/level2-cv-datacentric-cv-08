{
 "cells": [
  {
   "cell_type": "markdown",
   "metadata": {},
   "source": [
    "# Datumaro to UFO"
   ]
  },
  {
   "cell_type": "code",
   "execution_count": null,
   "metadata": {},
   "outputs": [],
   "source": [
    "import json\n",
    "import os"
   ]
  },
  {
   "cell_type": "code",
   "execution_count": null,
   "metadata": {},
   "outputs": [],
   "source": [
    "def read_json(path):\n",
    "    with open(path, 'r') as f:\n",
    "        file = json.load(f)\n",
    "    return file    "
   ]
  },
  {
   "cell_type": "code",
   "execution_count": null,
   "metadata": {},
   "outputs": [],
   "source": [
    "def save_json(data, path):\n",
    "    with open(path, 'w') as f:\n",
    "        json.dump(data, f, ensure_ascii=False, indent=2)"
   ]
  },
  {
   "cell_type": "code",
   "execution_count": null,
   "metadata": {},
   "outputs": [],
   "source": [
    "def update_item_id_with_extension(item, image_folder,ufo=True):\n",
    "    if ufo:\n",
    "        if not item['id'].endswith(('.jpg', '.png')):\n",
    "            image_path_jpg = os.path.join(image_folder, item['id'] + '.jpg')\n",
    "            image_path_png = os.path.join(image_folder, item['id'] + '.png')\n",
    "            if os.path.exists(image_path_jpg):\n",
    "                item['id'] += '.jpg'\n",
    "            elif os.path.exists(image_path_png):\n",
    "                item['id'] += '.png'\n",
    "            else:\n",
    "                print(f\"Image file not found for item id {item['id']}\")"
   ]
  },
  {
   "cell_type": "code",
   "execution_count": null,
   "metadata": {},
   "outputs": [],
   "source": [
    "def datumaro_to_ufo(datumaro_json_path, original_json_path, img_folder, output_ufo_path, ufo=False):\n",
    "    original_data = read_json(original_json_path)\n",
    "    original_images = original_data.get('images', {}) if ufo else {i['id']: i for i in original_data.get('items', [])}\n",
    "    \n",
    "    datumaro_data = read_json(datumaro_json_path)\n",
    "    print(\"Datumaro 데이터의 키:\", datumaro_data.keys())\n",
    "    \n",
    "    ufo_data = {'images': {}}\n",
    "    \n",
    "    for item in datumaro_data['items']:\n",
    "        update_item_id_with_extension(item, img_folder, ufo)\n",
    "    \n",
    "    if 'items' in datumaro_data:\n",
    "        items = datumaro_data['items']\n",
    "    else:\n",
    "        print(\"Datumaro JSON의 구조가 예상과 다릅니다.\")\n",
    "        return\n",
    "    \n",
    "    for item in items:\n",
    "        image_id = item.get('id') or os.path.splitext(item.get('name', ''))[0]\n",
    "        if not image_id:\n",
    "            print(\"이미지 이름을 찾을 수 없습니다.\")\n",
    "            continue\n",
    "\n",
    "        if ufo:\n",
    "            img_info = original_images.get(image_id)\n",
    "            if img_info:\n",
    "                img_w = img_info.get('img_w')\n",
    "                img_h = img_info.get('img_h')\n",
    "            else:\n",
    "                print(f\"원본 UFO 데이터에 '{image_id}' 이미지 정보가 없습니다.\")\n",
    "                continue\n",
    "        else:\n",
    "            img_info = original_images.get(image_id)\n",
    "            if img_info and 'image' in img_info and 'size' in img_info['image']:\n",
    "                img_h, img_w = img_info['image']['size']\n",
    "            else:\n",
    "                print(f\"Original Datumaro data에 '{image_id}' 크기 정보가 없습니다.\")\n",
    "                continue\n",
    "\n",
    "        ufo_item = {\n",
    "            \"paragraphs\": {},\n",
    "            \"words\": {},\n",
    "            \"chars\": {},\n",
    "            \"img_w\": img_w,\n",
    "            \"img_h\": img_h,\n",
    "            \"num_patches\": None,\n",
    "            \"tags\": [],\n",
    "            \"relations\": {},\n",
    "            \"annotation_log\": {},\n",
    "            \"license_tag\": {}\n",
    "        }\n",
    "        \n",
    "        annotations = item.get('annotations', [])\n",
    "        \n",
    "        word_id = 1\n",
    "        for ann in annotations:\n",
    "            transcription = '1'\n",
    "            if 'points' in ann and ann['points']:\n",
    "                points = [[ann['points'][i], ann['points'][i+1]] for i in range(0, len(ann['points']), 2)]\n",
    "            else:\n",
    "                continue\n",
    "            \n",
    "            ufo_item['words'][f'{word_id:04d}'] = {\n",
    "                \"transcription\": transcription,\n",
    "                \"points\": points\n",
    "            }\n",
    "            word_id += 1\n",
    "\n",
    "        ufo_data['images'][image_id] = ufo_item\n",
    "\n",
    "    save_json(ufo_data, output_ufo_path)\n",
    "    print(f'UFO 데이터가 {output_ufo_path}에 저장되었습니다.')"
   ]
  },
  {
   "cell_type": "code",
   "execution_count": null,
   "metadata": {},
   "outputs": [],
   "source": [
    "def file_json_rename(json_path, dir_path):\n",
    "    data = read_json(json_path)\n",
    "    image_files = sorted(os.listdir(dir_path))\n",
    "    \n",
    "    for idx, filename in enumerate(image_files):\n",
    "        file_extension = os.path.splitext(filename)[1]\n",
    "        new_filename = f\"image_{idx}{file_extension}\"\n",
    "        \n",
    "        old_path = os.path.join(dir_path, filename)\n",
    "        new_path = os.path.join(dir_path, new_filename)\n",
    "        os.rename(old_path, new_path)\n",
    "        \n",
    "        for key,value in data['images'].items():\n",
    "            new_old_path = old_path.replace(\"/data/ephemeral/home/new_annotations/new_thai\",\"images/train\")\n",
    "            if new_old_path == key+\".jpg\":\n",
    "                new_key = new_path.replace(\"/data/ephemeral/home/new_annotations/new_thai\",\"images/train\")\n",
    "                data['images'][new_key[:-4]] = value\n",
    "                del data['images'][key]\n",
    "                break\n",
    "    save_json(data,\"./rename_new_thai.json\")\n",
    "        "
   ]
  },
  {
   "cell_type": "code",
   "execution_count": null,
   "metadata": {},
   "outputs": [],
   "source": [
    "def newdatu_ufo_id_fix(new_json, what_lang, img_dir):\n",
    "    data = read_json(new_json)\n",
    "    new_images = {}\n",
    "    for old_key, value in data['images'].items():\n",
    "        split_name = old_key.split('/')\n",
    "        key_name = split_name[2] + \".jpg\"\n",
    "        key_name_split = key_name.split(\"_\")\n",
    "        new_image_filename = f\"image.{what_lang}.{key_name_split[1]}\"\n",
    "        new_images[new_image_filename] = value\n",
    "    data['images'] = new_images\n",
    "    \n",
    "    for filename in os.listdir(img_dir):\n",
    "        if filename.startswith('image_'):\n",
    "            number = filename.split('_')[1]\n",
    "            new_filename = f\"image.{what_lang}.{number}\"\n",
    "            old_file = os.path.join(img_dir,filename)\n",
    "            new_file = os.path.join(img_dir,new_filename)\n",
    "            os.rename(old_file,new_file)\n",
    "            print(f'rename {old_file} : {new_file}')\n",
    "    save_json(data, new_json)"
   ]
  },
  {
   "cell_type": "code",
   "execution_count": null,
   "metadata": {},
   "outputs": [],
   "source": [
    "'''\n",
    "datumaro_json_path : CVAT에서 나온 annotation json\n",
    "origin_json_path : 원본 포맷 json\n",
    "img_folder : 이미지 폴더\n",
    "output_path : datu -> ufo 변환 후 저장 경로\n",
    "is_ufo : origin json이 ufo 포맷일때 True\n",
    "'''\n",
    "datumaro_json_path = \"/data/ephemeral/home/new_annotations/ajson/datu_json/syzh.json\"\n",
    "origin_json_path = \"/data/ephemeral/home/new_annotations/ajson/origin_json/syzh.json\"\n",
    "img_folder = \"/data/ephemeral/home/new_annotations/syzh_receipt/img/train\"\n",
    "output_path = \"/data/ephemeral/home/new_annotations/ufo_tran/syzh.json\"\n",
    "origin_is_ufo = False"
   ]
  },
  {
   "cell_type": "code",
   "execution_count": null,
   "metadata": {},
   "outputs": [],
   "source": [
    "datumaro_to_ufo(datumaro_json_path, origin_json_path, img_folder, output_path, origin_is_ufo)"
   ]
  },
  {
   "cell_type": "markdown",
   "metadata": {},
   "source": [
    "# NEW Data만 사용"
   ]
  },
  {
   "cell_type": "code",
   "execution_count": null,
   "metadata": {},
   "outputs": [],
   "source": [
    "newdatu_ufo_id_fix(output_path,'syzh',img_folder)"
   ]
  }
 ],
 "metadata": {
  "kernelspec": {
   "display_name": "base",
   "language": "python",
   "name": "python3"
  },
  "language_info": {
   "codemirror_mode": {
    "name": "ipython",
    "version": 3
   },
   "file_extension": ".py",
   "mimetype": "text/x-python",
   "name": "python",
   "nbconvert_exporter": "python",
   "pygments_lexer": "ipython3",
   "version": "3.10.13"
  }
 },
 "nbformat": 4,
 "nbformat_minor": 2
}
