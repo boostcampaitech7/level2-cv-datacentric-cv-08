{
 "cells": [
  {
   "cell_type": "code",
   "execution_count": 7,
   "metadata": {},
   "outputs": [],
   "source": [
    "import os\n",
    "import shutil\n",
    "from PIL import Image\n",
    "import imagehash"
   ]
  },
  {
   "cell_type": "code",
   "execution_count": 8,
   "metadata": {},
   "outputs": [],
   "source": [
    "origin_dir = \"/data/ephemeral/home/kaggle_images\"\n",
    "output_dir = \"/data/ephemeral/home/cleansing\""
   ]
  },
  {
   "cell_type": "code",
   "execution_count": 9,
   "metadata": {},
   "outputs": [],
   "source": [
    "hash_set = set()\n",
    "\n",
    "unique_images = []\n",
    "\n",
    "image_files = [f for f in os.listdir(origin_dir) if f.lower().endswith(('.png', '.jpg', '.jpeg'))]"
   ]
  },
  {
   "cell_type": "code",
   "execution_count": 10,
   "metadata": {},
   "outputs": [],
   "source": [
    "for img_file in image_files:\n",
    "    image_path = os.path.join(origin_dir, img_file)\n",
    "    try:\n",
    "        with Image.open(image_path) as img:\n",
    "            hash_value = imagehash.phash(img)\n",
    "            if hash_value not in hash_set:\n",
    "                hash_set.add(hash_value)\n",
    "                file_size = os.path.getsize(image_path)\n",
    "                unique_images.append({\"path\": image_path, 'size':file_size})\n",
    "    except Exception as e:\n",
    "        print(f\"이미지 처리 오류\\n{e}\")"
   ]
  },
  {
   "cell_type": "code",
   "execution_count": null,
   "metadata": {},
   "outputs": [
    {
     "name": "stdout",
     "output_type": "stream",
     "text": [
      "DONE!\n"
     ]
    }
   ],
   "source": [
    "unique_images.sort(key=lambda x: x['size'], reverse=True)\n",
    "\n",
    "top_200_images = unique_images[:50]\n",
    "\n",
    "os.makedirs(output_dir, exist_ok=True)\n",
    "\n",
    "for idx, image_info in enumerate(top_200_images, 1):\n",
    "    _, ext = os.path.splitext(image_info['path'])\n",
    "    new_filename = f\"{idx}{ext}\"\n",
    "    destination_path = os.path.join(output_dir, new_filename)\n",
    "    shutil.copy(image_info['path'], destination_path)\n",
    "    \n",
    "print(\"DONE!\")"
   ]
  }
 ],
 "metadata": {
  "kernelspec": {
   "display_name": "base",
   "language": "python",
   "name": "python3"
  },
  "language_info": {
   "codemirror_mode": {
    "name": "ipython",
    "version": 3
   },
   "file_extension": ".py",
   "mimetype": "text/x-python",
   "name": "python",
   "nbconvert_exporter": "python",
   "pygments_lexer": "ipython3",
   "version": "3.10.13"
  }
 },
 "nbformat": 4,
 "nbformat_minor": 2
}
