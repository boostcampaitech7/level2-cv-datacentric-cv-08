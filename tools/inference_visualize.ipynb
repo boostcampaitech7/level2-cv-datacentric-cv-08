{
 "cells": [
  {
   "cell_type": "code",
   "execution_count": 1,
   "metadata": {},
   "outputs": [],
   "source": [
    "import os\n",
    "import json\n",
    "from glob import glob\n",
    "from pathlib import Path\n",
    "from PIL import Image, ImageDraw"
   ]
  },
  {
   "cell_type": "code",
   "execution_count": 2,
   "metadata": {},
   "outputs": [],
   "source": [
    "def read_json(filename: str):\n",
    "    with Path(filename).open(encoding='utf8') as handle:\n",
    "        ann = json.load(handle)\n",
    "    return ann\n",
    "\n",
    "\n",
    "nation_dict = {\n",
    "    'vi': 'vietnamese_receipt',\n",
    "    'th': 'thai_receipt',\n",
    "    'zh': 'chinese_receipt',\n",
    "    'ja': 'japanese_receipt',\n",
    "}"
   ]
  },
  {
   "cell_type": "code",
   "execution_count": 3,
   "metadata": {},
   "outputs": [],
   "source": [
    "def save_vis_to_img(save_dir: str | os.PathLike, inference_dir: str | os.PathLike = 'output.csv') -> None:\n",
    "    if not os.path.exists(save_dir):\n",
    "        os.makedirs(save_dir, exist_ok=True)    \n",
    "    data = read_json(inference_dir)\n",
    "    for im, points in data['images'].items():\n",
    "        # change to 'train' for train dataset \n",
    "        im_path = Path('data') / nation_dict[im.split('.')[1]] / 'img' / 'test' / im\n",
    "        img = Image.open(im_path).convert(\"RGB\")\n",
    "        draw = ImageDraw.Draw(img)\n",
    "        for obj_k, obj_v in points['words'].items():\n",
    "            # bbox points\n",
    "            pts = [(int(p[0]), int(p[1])) for p in obj_v['points']]\n",
    "            pt1 = sorted(pts, key=lambda x: (x[1], x[0]))[0]\n",
    "\n",
    "            draw.polygon(pts, outline=(255, 0, 0))                \n",
    "            draw.text(\n",
    "                (pt1[0]-3, pt1[1]-12),\n",
    "                obj_k,\n",
    "                fill=(0, 0, 0)\n",
    "            )\n",
    "        img.save(os.path.join(save_dir, im))"
   ]
  },
  {
   "cell_type": "code",
   "execution_count": 4,
   "metadata": {},
   "outputs": [],
   "source": [
    "save_dir = '/data/ephemeral/home/inference_result'\n",
    "inference_dir = '/data/ephemeral/home/code/predictions/output.csv'"
   ]
  },
  {
   "cell_type": "code",
   "execution_count": 5,
   "metadata": {},
   "outputs": [],
   "source": [
    "save_vis_to_img(save_dir=save_dir, inference_dir=inference_dir)"
   ]
  }
 ],
 "metadata": {
  "kernelspec": {
   "display_name": "base",
   "language": "python",
   "name": "python3"
  },
  "language_info": {
   "codemirror_mode": {
    "name": "ipython",
    "version": 3
   },
   "file_extension": ".py",
   "mimetype": "text/x-python",
   "name": "python",
   "nbconvert_exporter": "python",
   "pygments_lexer": "ipython3",
   "version": "3.10.13"
  }
 },
 "nbformat": 4,
 "nbformat_minor": 2
}
